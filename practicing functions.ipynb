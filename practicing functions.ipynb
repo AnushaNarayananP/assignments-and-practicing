{
 "cells": [
  {
   "cell_type": "code",
   "execution_count": null,
   "id": "5d012643",
   "metadata": {},
   "outputs": [],
   "source": [
    "def start_end_steps(s,a,b,c):\n",
    "    print(s[a:b:c])\n",
    "    "
   ]
  },
  {
   "cell_type": "code",
   "execution_count": null,
   "id": "b3a8d1f0",
   "metadata": {},
   "outputs": [],
   "source": [
    "try:\n",
    "    s=input(\"enter a string\")\n",
    "    def start_end_steps(*a):\n",
    "        l=[]\n",
    "        \n",
    "        for i in a :\n",
    "            l.append(i)\n",
    "        p=s[l[0]:l[1]:l[2]]\n",
    "        print(p)   \n",
    "        \n",
    "except Exception as e:\n",
    "    print(e)\n",
    "           "
   ]
  },
  {
   "cell_type": "code",
   "execution_count": null,
   "id": "83a54cc8",
   "metadata": {},
   "outputs": [],
   "source": [
    "start_end_steps(2,10,2)"
   ]
  },
  {
   "cell_type": "code",
   "execution_count": null,
   "id": "df85a04f",
   "metadata": {},
   "outputs": [],
   "source": []
  }
 ],
 "metadata": {
  "kernelspec": {
   "display_name": "Python 3 (ipykernel)",
   "language": "python",
   "name": "python3"
  },
  "language_info": {
   "codemirror_mode": {
    "name": "ipython",
    "version": 3
   },
   "file_extension": ".py",
   "mimetype": "text/x-python",
   "name": "python",
   "nbconvert_exporter": "python",
   "pygments_lexer": "ipython3",
   "version": "3.9.12"
  }
 },
 "nbformat": 4,
 "nbformat_minor": 5
}
