{
 "cells": [
  {
   "cell_type": "raw",
   "id": "0918844f",
   "metadata": {},
   "source": [
    "1.What are the two values of the Boolean data type? How do you write them?\n",
    "Two values of Boolean data type are true and false. We write them as True and False respectively."
   ]
  },
  {
   "cell_type": "raw",
   "id": "7924ad7c",
   "metadata": {},
   "source": [
    "2. What are the three different types of Boolean operators?\n",
    "and,or,not"
   ]
  },
  {
   "cell_type": "raw",
   "id": "20c0839b",
   "metadata": {},
   "source": [
    "3. Make a list of each Boolean operator's truth tables (i.e. every possible combination of Boolean\n",
    "values for the operator and what it evaluate ).\n",
    "OR\n",
    "True or True = True\n",
    "True or False= True\n",
    "False or True= True\n",
    "False or False= False\n",
    "AND\n",
    "True or True = True\n",
    "True or False= False\n",
    "False or True= False\n",
    "False or False=False\n",
    "NOT\n",
    "not True=False\n",
    "not False=True\n"
   ]
  },
  {
   "cell_type": "raw",
   "id": "4a58e265",
   "metadata": {},
   "source": [
    "4. What are the values of the following expressions?\n",
    "(5 > 4) and (3 == 5)\n",
    "not (5 > 4)\n",
    "(5 > 4) or (3 == 5)\n",
    "not ((5 > 4) or (3 == 5))\n",
    "(True and True) and (True == False)\n",
    "(not False) or (not True)"
   ]
  },
  {
   "cell_type": "code",
   "execution_count": 1,
   "id": "ecc6970c",
   "metadata": {},
   "outputs": [
    {
     "data": {
      "text/plain": [
       "False"
      ]
     },
     "execution_count": 1,
     "metadata": {},
     "output_type": "execute_result"
    }
   ],
   "source": [
    "(5 > 4) and (3 == 5)"
   ]
  },
  {
   "cell_type": "code",
   "execution_count": 2,
   "id": "a458c09e",
   "metadata": {},
   "outputs": [
    {
     "data": {
      "text/plain": [
       "False"
      ]
     },
     "execution_count": 2,
     "metadata": {},
     "output_type": "execute_result"
    }
   ],
   "source": [
    "not (5 > 4)"
   ]
  },
  {
   "cell_type": "code",
   "execution_count": 3,
   "id": "5e93cab9",
   "metadata": {},
   "outputs": [
    {
     "data": {
      "text/plain": [
       "True"
      ]
     },
     "execution_count": 3,
     "metadata": {},
     "output_type": "execute_result"
    }
   ],
   "source": [
    "(5 > 4) or (3 == 5)"
   ]
  },
  {
   "cell_type": "code",
   "execution_count": 4,
   "id": "5ae7e1c8",
   "metadata": {},
   "outputs": [
    {
     "data": {
      "text/plain": [
       "False"
      ]
     },
     "execution_count": 4,
     "metadata": {},
     "output_type": "execute_result"
    }
   ],
   "source": [
    "not ((5 > 4) or (3 == 5))"
   ]
  },
  {
   "cell_type": "code",
   "execution_count": 5,
   "id": "189d91fa",
   "metadata": {},
   "outputs": [
    {
     "data": {
      "text/plain": [
       "False"
      ]
     },
     "execution_count": 5,
     "metadata": {},
     "output_type": "execute_result"
    }
   ],
   "source": [
    "(True and True) and (True == False)"
   ]
  },
  {
   "cell_type": "code",
   "execution_count": 6,
   "id": "3b0f37c4",
   "metadata": {},
   "outputs": [
    {
     "data": {
      "text/plain": [
       "True"
      ]
     },
     "execution_count": 6,
     "metadata": {},
     "output_type": "execute_result"
    }
   ],
   "source": [
    "(not False) or (not True)"
   ]
  },
  {
   "cell_type": "raw",
   "id": "929ea80d",
   "metadata": {},
   "source": [
    "5. What are the six comparison operators?\n",
    ">,greater than\n",
    "<,less than\n",
    ">=,greater than or equal to\n",
    "<=,less than or equal to\n",
    "==,is same as\n",
    "=!, is not same as"
   ]
  },
  {
   "cell_type": "raw",
   "id": "eac1afc7",
   "metadata": {},
   "source": [
    "6. How do you tell the difference between the equal to and assignment operators?Describe a\n",
    "condition and when you would use one.\n",
    "The equal is an assignment operator is used to assign the value on the right to the variable on the left.The == operator checks whether the two given operands are equal or not."
   ]
  },
  {
   "cell_type": "code",
   "execution_count": 7,
   "id": "5941aa65",
   "metadata": {},
   "outputs": [],
   "source": [
    "a=(3==5)"
   ]
  },
  {
   "cell_type": "code",
   "execution_count": 8,
   "id": "8c9e57ac",
   "metadata": {},
   "outputs": [
    {
     "data": {
      "text/plain": [
       "False"
      ]
     },
     "execution_count": 8,
     "metadata": {},
     "output_type": "execute_result"
    }
   ],
   "source": [
    "a"
   ]
  },
  {
   "cell_type": "raw",
   "id": "9ac7e322",
   "metadata": {},
   "source": [
    "7. Identify the three blocks in this code:\n",
    "spam = 0\n",
    "if spam == 10:\n",
    "print('eggs')\n",
    "if spam > 5:\n",
    "print('bacon')\n",
    "else:\n",
    "print('ham')\n",
    "print('spam')\n",
    "print('spam')"
   ]
  },
  {
   "cell_type": "code",
   "execution_count": 10,
   "id": "738193bb",
   "metadata": {},
   "outputs": [
    {
     "name": "stdout",
     "output_type": "stream",
     "text": [
      "ham\n",
      "spam\n",
      "spam\n"
     ]
    }
   ],
   "source": [
    "spam = 0\n",
    "if spam == 10:\n",
    "  print('eggs')\n",
    "if spam > 5:\n",
    "  print('bacon')\n",
    "else:\n",
    "  print('ham')\n",
    "  print('spam')\n",
    "  print('spam')"
   ]
  },
  {
   "cell_type": "raw",
   "id": "91851454",
   "metadata": {},
   "source": [
    "8. Write code that prints Hello if 1 is stored in spam, prints Howdy if 2 is stored in spam, and prints\n",
    "Greetings! if anything else is stored in spam."
   ]
  },
  {
   "cell_type": "code",
   "execution_count": 18,
   "id": "d3ecbd78",
   "metadata": {},
   "outputs": [
    {
     "name": "stdout",
     "output_type": "stream",
     "text": [
      "enter anything:absh\n",
      "Greetings!\n"
     ]
    }
   ],
   "source": [
    "spam=input('enter anything:')\n",
    "if spam=='1':\n",
    "    print('Hello')\n",
    "    spam=1\n",
    "elif spam=='2':\n",
    "    print('Howdy')\n",
    "    spam =2\n",
    "else:\n",
    "    print('Greetings!')"
   ]
  },
  {
   "cell_type": "raw",
   "id": "0761f302",
   "metadata": {},
   "source": [
    "9.If your programme is stuck in an endless loop, what keys you’ll press?\n",
    "CTRL+C"
   ]
  },
  {
   "cell_type": "raw",
   "id": "9cc61756",
   "metadata": {},
   "source": [
    "10. How can you tell the difference between break and continue?\n",
    "The python break statment stops the loop in which statment is placed.A python continue statment skips a single iteration in a loop."
   ]
  },
  {
   "cell_type": "raw",
   "id": "2d4a7a06",
   "metadata": {},
   "source": [
    "11. In a for loop, what is the difference between range(10), range(0, 10), and range(0, 10, 1)?\n",
    "range(end)\n",
    "range(10)\n",
    "begins with 0,stops with (end-1) and each step:1\n",
    "range(begin,end)\n",
    "range(0,10)\n",
    "starts with begin ,stops with (end-1) and each step:1\n",
    "range(0,10,1) \n",
    "range(begin, end, step)\n",
    "starts with begin ,stops with (end-1) and each step: step"
   ]
  },
  {
   "cell_type": "code",
   "execution_count": null,
   "id": "909994d5",
   "metadata": {},
   "outputs": [],
   "source": [
    "12. Write a short program that prints the numbers 1 to 10 using a for loop. Then write an equivalent\n",
    "program that prints the numbers 1 to 10 using a while loop."
   ]
  },
  {
   "cell_type": "code",
   "execution_count": 20,
   "id": "b1f9ebb1",
   "metadata": {},
   "outputs": [
    {
     "name": "stdout",
     "output_type": "stream",
     "text": [
      "1 2 3 4 5 6 7 8 9 10 "
     ]
    }
   ],
   "source": [
    "for i in range(1,11):\n",
    "    print(i,end=' ')\n",
    "    "
   ]
  },
  {
   "cell_type": "code",
   "execution_count": 22,
   "id": "decee7c2",
   "metadata": {},
   "outputs": [
    {
     "name": "stdout",
     "output_type": "stream",
     "text": [
      "1 2 3 4 5 6 7 8 9 10 "
     ]
    }
   ],
   "source": [
    "i=1\n",
    "while(i<=10):\n",
    "    print(i,end=' ')\n",
    "    i+=1\n"
   ]
  },
  {
   "cell_type": "raw",
   "id": "00fed809",
   "metadata": {},
   "source": [
    "13. If you had a function named bacon() inside a module named spam, how would you call it after\n",
    "importing spam?\n",
    "spam.bacon()"
   ]
  }
 ],
 "metadata": {
  "kernelspec": {
   "display_name": "Python 3 (ipykernel)",
   "language": "python",
   "name": "python3"
  },
  "language_info": {
   "codemirror_mode": {
    "name": "ipython",
    "version": 3
   },
   "file_extension": ".py",
   "mimetype": "text/x-python",
   "name": "python",
   "nbconvert_exporter": "python",
   "pygments_lexer": "ipython3",
   "version": "3.9.12"
  }
 },
 "nbformat": 4,
 "nbformat_minor": 5
}
