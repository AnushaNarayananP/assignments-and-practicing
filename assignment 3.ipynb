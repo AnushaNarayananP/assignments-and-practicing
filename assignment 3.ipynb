{
 "cells": [
  {
   "cell_type": "raw",
   "id": "862db339",
   "metadata": {},
   "source": [
    "ASSIGNMENT 3"
   ]
  },
  {
   "cell_type": "raw",
   "id": "d43401cb",
   "metadata": {},
   "source": [
    "1. Why are functions advantageous to have in your programs?"
   ]
  },
  {
   "cell_type": "raw",
   "id": "1bf30c70",
   "metadata": {},
   "source": [
    "Functions reduce the need for duplicate code."
   ]
  },
  {
   "cell_type": "raw",
   "id": "f9751e96",
   "metadata": {},
   "source": [
    "2. When does the code in a function run: when it's specified or when it's called?"
   ]
  },
  {
   "cell_type": "raw",
   "id": "781ab82d",
   "metadata": {},
   "source": [
    "code in a function runs when there is definition and execution "
   ]
  },
  {
   "cell_type": "raw",
   "id": "28694184",
   "metadata": {},
   "source": [
    "3. What statement creates a function?"
   ]
  },
  {
   "cell_type": "raw",
   "id": "5deb1678",
   "metadata": {},
   "source": [
    "A statment that creates a function specifying its name, parameters, and the statment it executes."
   ]
  },
  {
   "cell_type": "raw",
   "id": "e9092d28",
   "metadata": {},
   "source": [
    "4. What is the difference between a function and a function call?"
   ]
  },
  {
   "cell_type": "raw",
   "id": "e1d0a9a9",
   "metadata": {},
   "source": [
    "A function is a block of code that does a particular operation and returns a result.It usually accepts inputs as parameters and returns a result.The parameters are not mandatory.\n",
    "A function call is the code used to pass control to the function."
   ]
  },
  {
   "cell_type": "raw",
   "id": "3c6d14b4",
   "metadata": {},
   "source": [
    "5. How many global scopes are there in a Python program? How many local scopes?"
   ]
  },
  {
   "cell_type": "raw",
   "id": "9a5b52a9",
   "metadata": {},
   "source": [
    "There's only one global python scope per program execution.There is infinite number of local scopes."
   ]
  },
  {
   "cell_type": "raw",
   "id": "eae98c98",
   "metadata": {},
   "source": [
    "6. What happens to variables in a local scope when the function call returns?"
   ]
  },
  {
   "cell_type": "raw",
   "id": "38645cdd",
   "metadata": {},
   "source": [
    "When the execution of the function terminates (returns),the local variables are destroyed."
   ]
  },
  {
   "cell_type": "raw",
   "id": "9c4684f7",
   "metadata": {},
   "source": [
    "7. What is the concept of a return value? Is it possible to have a return value in an expression?"
   ]
  },
  {
   "cell_type": "raw",
   "id": "fc24ad08",
   "metadata": {},
   "source": [
    "A return is a value that a function  returns to the calling script or function when it completes its task. \n",
    "yes, it is possible to have a return value in an expression."
   ]
  },
  {
   "cell_type": "raw",
   "id": "49479724",
   "metadata": {},
   "source": [
    "8. If a function does not have a return statement, what is the return value of a call to that function?"
   ]
  },
  {
   "cell_type": "raw",
   "id": "fcf46e0a",
   "metadata": {},
   "source": [
    "* a function without parameter\n",
    "if no return statement appears in a function definition ,control automatically  return to the calling function after the last statement of the called function is executed.In this case,the return value of the called function is undefined."
   ]
  },
  {
   "cell_type": "raw",
   "id": "48f26a2c",
   "metadata": {},
   "source": [
    "9. How do you make a function variable refer to the global variable?"
   ]
  },
  {
   "cell_type": "raw",
   "id": "49134a80",
   "metadata": {},
   "source": [
    "since local variable can only be used inside a function, so use global keyword. "
   ]
  },
  {
   "cell_type": "raw",
   "id": "d704155e",
   "metadata": {},
   "source": [
    "10.What is the data type of None?"
   ]
  },
  {
   "cell_type": "raw",
   "id": "f5ee8789",
   "metadata": {},
   "source": [
    "None is data type of its own(NoneType)."
   ]
  },
  {
   "cell_type": "raw",
   "id": "053280f9",
   "metadata": {},
   "source": [
    "11. What does the sentence import areallyourpetsnamederic do?"
   ]
  },
  {
   "cell_type": "raw",
   "id": "a728e387",
   "metadata": {},
   "source": [
    "the import statment imports a module/package named areallyourpetsnamederic."
   ]
  },
  {
   "cell_type": "raw",
   "id": "e1a69225",
   "metadata": {},
   "source": [
    "12. If you had a bacon() feature in a spam module, what would you call it after importing spam?"
   ]
  },
  {
   "cell_type": "raw",
   "id": "e7cf839f",
   "metadata": {},
   "source": [
    "spam.bacon()"
   ]
  }
 ],
 "metadata": {
  "kernelspec": {
   "display_name": "Python 3 (ipykernel)",
   "language": "python",
   "name": "python3"
  },
  "language_info": {
   "codemirror_mode": {
    "name": "ipython",
    "version": 3
   },
   "file_extension": ".py",
   "mimetype": "text/x-python",
   "name": "python",
   "nbconvert_exporter": "python",
   "pygments_lexer": "ipython3",
   "version": "3.9.12"
  }
 },
 "nbformat": 4,
 "nbformat_minor": 5
}
