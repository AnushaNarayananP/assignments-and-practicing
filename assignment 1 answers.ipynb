{
 "cells": [
  {
   "cell_type": "raw",
   "id": "718307ea",
   "metadata": {},
   "source": [
    "1. In the below elements which of them are values or an expression? eg:- values can be integer or string and expressions will be mathematical operators.\n",
    "*                        -expression\n",
    "'hello'                  -values\n",
    "-87.8                    -values\n",
    "-                        -expression\n",
    "/                        -expression\n",
    "+\t                     -expression\n",
    "6                        -values\n"
   ]
  },
  {
   "cell_type": "raw",
   "id": "af8b5b4e",
   "metadata": {},
   "source": [
    "2. What is the difference between string and variable?\n",
    "A variable store any information and a string is one of information in which variable stores."
   ]
  },
  {
   "cell_type": "raw",
   "id": "ea63ff9c",
   "metadata": {},
   "source": [
    "3. Describe three different data types.\n",
    "a)Boolean\n",
    "Data type with one of the two built in values,True or False.\n",
    "b)Set is a collection of unique elements in which empty set is an dictionary. In this elements can be numeric ,string and tuple.\n",
    "c)Dictionary is unordered collection of data values. Dictionary holds key : value pair. "
   ]
  },
  {
   "cell_type": "raw",
   "id": "888093ef",
   "metadata": {},
   "source": [
    "4. What is an expression made up of? What do all expressions do?\n",
    "an expression is mathematical operators . Expressions combine with operands to produce a value."
   ]
  },
  {
   "cell_type": "raw",
   "id": "68694031",
   "metadata": {},
   "source": [
    "5. This assignment statements, like spam = 10. What is the difference between an expression and a statement?\n",
    "Statment represents an action or command.Expression is a combination of variables,operations and values."
   ]
  },
  {
   "cell_type": "raw",
   "id": "9363b08e",
   "metadata": {},
   "source": [
    "6. After running the following code, what does the variable bacon contain?\n",
    "bacon = 22\n",
    "bacon + 1\n"
   ]
  },
  {
   "cell_type": "raw",
   "id": "3c8d9906",
   "metadata": {},
   "source": [
    "bacon = 22\n",
    "bacon + 1\n",
    "ANSWER IS 23"
   ]
  },
  {
   "cell_type": "raw",
   "id": "c42f6cd4",
   "metadata": {},
   "source": [
    "7. What should the values of the following two terms be?\n",
    "'spam' + 'spamspam'\n",
    "'spam' * 3\n"
   ]
  },
  {
   "cell_type": "raw",
   "id": "66c980b0",
   "metadata": {},
   "source": [
    "\n",
    "'spam' * 3                   ANSWER IS 'spamspamspam'\n"
   ]
  },
  {
   "cell_type": "raw",
   "id": "2459f537",
   "metadata": {},
   "source": [
    "'spam' + 'spamspam'          ANSWER IS 'spamspamspam'"
   ]
  },
  {
   "cell_type": "raw",
   "id": "5ea8a9e7",
   "metadata": {},
   "source": [
    "8. Why is eggs a valid variable name while 100 is invalid?\n",
    "A variable is a memory address that can change,and when memory address cannot change then that variable is known as constant. Therefore it can't store any datatype to numeric or sequence type or starting with a number or reserved words or symbole except underscore."
   ]
  },
  {
   "cell_type": "raw",
   "id": "ae115d39",
   "metadata": {},
   "source": [
    "9. What three functions can be used to get the integer, floating-point number, or string version of a value?"
   ]
  },
  {
   "cell_type": "raw",
   "id": "3e454f6b",
   "metadata": {},
   "source": [
    "int(argument),float(argument) and str(argument)"
   ]
  },
  {
   "cell_type": "raw",
   "id": "1664cfec",
   "metadata": {},
   "source": [
    "10. Why does this expression cause an error? How can you fix it?\n",
    "'I have eaten ' + 99 + ' burritos.'\n"
   ]
  },
  {
   "cell_type": "raw",
   "id": "7a045d5d",
   "metadata": {},
   "source": [
    "'I have eaten ' + 99 + ' burritos.'\n",
    "the reason is only string can concatenate with string and not integer.\n"
   ]
  },
  {
   "cell_type": "raw",
   "id": "60aacfa0",
   "metadata": {},
   "source": [
    "'I have eaten ' + '99' + ' burritos.'"
   ]
  },
  {
   "cell_type": "raw",
   "id": "c607ca66",
   "metadata": {},
   "source": []
  }
 ],
 "metadata": {
  "kernelspec": {
   "display_name": "Python 3 (ipykernel)",
   "language": "python",
   "name": "python3"
  },
  "language_info": {
   "codemirror_mode": {
    "name": "ipython",
    "version": 3
   },
   "file_extension": ".py",
   "mimetype": "text/x-python",
   "name": "python",
   "nbconvert_exporter": "python",
   "pygments_lexer": "ipython3",
   "version": "3.9.12"
  }
 },
 "nbformat": 4,
 "nbformat_minor": 5
}
