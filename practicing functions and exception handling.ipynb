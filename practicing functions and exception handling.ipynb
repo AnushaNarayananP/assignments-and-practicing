{
 "cells": [
  {
   "cell_type": "code",
   "execution_count": 9,
   "id": "d12f9ad9",
   "metadata": {},
   "outputs": [
    {
     "name": "stdout",
     "output_type": "stream",
     "text": [
      "jdlak     \n"
     ]
    }
   ],
   "source": [
    "try:\n",
    "    def lstrip(a):\n",
    "        try:\n",
    "            print(a.lstrip())\n",
    "        except Exception as e :\n",
    "            print(e)\n",
    "    lstrip('     jdlak     ')  \n",
    "except Exception as e:\n",
    "    print(e)"
   ]
  },
  {
   "cell_type": "code",
   "execution_count": 12,
   "id": "fd69bd2a",
   "metadata": {},
   "outputs": [
    {
     "data": {
      "text/plain": [
       "' jhlk'"
      ]
     },
     "execution_count": 12,
     "metadata": {},
     "output_type": "execute_result"
    }
   ],
   "source": [
    "a='lak jhlk'\n",
    "a.lstrip('lak')"
   ]
  },
  {
   "cell_type": "code",
   "execution_count": 10,
   "id": "5a0d6b1b",
   "metadata": {},
   "outputs": [
    {
     "name": "stdout",
     "output_type": "stream",
     "text": [
      "jdlak     \n"
     ]
    }
   ],
   "source": [
    "try:\n",
    "    def lstrip(a):\n",
    "        try:\n",
    "            print(a.lstrip('lak'))\n",
    "        except Exception as e :\n",
    "            print(e)\n",
    "    lstrip('lakjdlak     ')  \n",
    "except Exception as e:\n",
    "    print(e)"
   ]
  },
  {
   "cell_type": "code",
   "execution_count": 12,
   "id": "9a1ff0c2",
   "metadata": {},
   "outputs": [
    {
     "name": "stdout",
     "output_type": "stream",
     "text": [
      "     jdlak\n"
     ]
    }
   ],
   "source": [
    "try:\n",
    "    def rstrip(a):\n",
    "        try:\n",
    "            print(a.rstrip())\n",
    "        except Exception as e :\n",
    "            print(e)\n",
    "    rstrip('     jdlak     ')  \n",
    "except Exception as e:\n",
    "    print(e)"
   ]
  },
  {
   "cell_type": "code",
   "execution_count": 14,
   "id": "c1b9350f",
   "metadata": {},
   "outputs": [
    {
     "name": "stdout",
     "output_type": "stream",
     "text": [
      "     jdlak\n"
     ]
    }
   ],
   "source": [
    "try:\n",
    "    def rstrip(a):\n",
    "        try:\n",
    "            print(a.rstrip('*'))\n",
    "        except Exception as e :\n",
    "            print(e)\n",
    "    rstrip('     jdlak****************')  \n",
    "except Exception as e:\n",
    "    print(e)"
   ]
  },
  {
   "cell_type": "code",
   "execution_count": 13,
   "id": "3f01016b",
   "metadata": {},
   "outputs": [
    {
     "data": {
      "text/plain": [
       "'    jjkdj'"
      ]
     },
     "execution_count": 13,
     "metadata": {},
     "output_type": "execute_result"
    }
   ],
   "source": [
    "a='    jjkdj***************'\n",
    "a.rstrip('*')"
   ]
  },
  {
   "cell_type": "code",
   "execution_count": 13,
   "id": "48e231c5",
   "metadata": {},
   "outputs": [
    {
     "name": "stdout",
     "output_type": "stream",
     "text": [
      "jdlak\n"
     ]
    }
   ],
   "source": [
    "try:\n",
    "    def strip(a):\n",
    "        try:\n",
    "            print(a.strip())\n",
    "        except Exception as e :\n",
    "            print(e)\n",
    "    strip('     jdlak     ')  \n",
    "except Exception as e:\n",
    "    print(e)"
   ]
  },
  {
   "cell_type": "code",
   "execution_count": 15,
   "id": "bbe7c025",
   "metadata": {},
   "outputs": [
    {
     "name": "stdout",
     "output_type": "stream",
     "text": [
      "jdlak\n"
     ]
    }
   ],
   "source": [
    "try:\n",
    "    def strip(a):\n",
    "        try:\n",
    "            print(a.strip('*'))\n",
    "        except Exception as e :\n",
    "            print(e)\n",
    "    strip('******jdlak*********')  \n",
    "except Exception as e:\n",
    "    print(e)"
   ]
  },
  {
   "cell_type": "code",
   "execution_count": 14,
   "id": "d48c18ec",
   "metadata": {},
   "outputs": [
    {
     "name": "stdout",
     "output_type": "stream",
     "text": [
      "7\n"
     ]
    }
   ],
   "source": [
    "try:\n",
    "    def find(a):\n",
    "        try:\n",
    "            print(a.find('lak'))\n",
    "        except Exception as e :\n",
    "            print(e)\n",
    "    find('     jdlak     ')  \n",
    "except Exception as e:\n",
    "    print(e)"
   ]
  },
  {
   "cell_type": "code",
   "execution_count": 16,
   "id": "83e39b4e",
   "metadata": {},
   "outputs": [
    {
     "data": {
      "text/plain": [
       "['', ' ', ' ', ' * * * *    *']"
      ]
     },
     "execution_count": 16,
     "metadata": {},
     "output_type": "execute_result"
    }
   ],
   "source": [
    "a='* * * * * * *    *'\n",
    "a.split('*',3)"
   ]
  },
  {
   "cell_type": "code",
   "execution_count": 15,
   "id": "04fafd91",
   "metadata": {},
   "outputs": [
    {
     "name": "stdout",
     "output_type": "stream",
     "text": [
      "['     jd', '     ']\n"
     ]
    }
   ],
   "source": [
    "try:\n",
    "    def split(a):\n",
    "        try:\n",
    "            print(a.split('lak'))\n",
    "        except Exception as e :\n",
    "            print(e)\n",
    "    split('     jdlak     ')  \n",
    "except Exception as e:\n",
    "    print(e)"
   ]
  },
  {
   "cell_type": "code",
   "execution_count": 17,
   "id": "27535754",
   "metadata": {},
   "outputs": [
    {
     "name": "stdout",
     "output_type": "stream",
     "text": [
      "['     ', ' ', ' ', ' * * * * * * * * * * * *     ']\n"
     ]
    }
   ],
   "source": [
    "try:\n",
    "    def split(a):\n",
    "        try:\n",
    "            print(a.split('*',3))\n",
    "        except Exception as e :\n",
    "            print(e)\n",
    "    split('     * * * * * * * * * * * * * * *     ')  \n",
    "except Exception as e:\n",
    "    print(e)"
   ]
  },
  {
   "cell_type": "code",
   "execution_count": 16,
   "id": "0bbd4917",
   "metadata": {},
   "outputs": [
    {
     "name": "stdout",
     "output_type": "stream",
     "text": [
      "     jdpython     \n"
     ]
    }
   ],
   "source": [
    "try:\n",
    "    def replace(a):\n",
    "        try:\n",
    "            print(a.replace('lak','python'))\n",
    "        except Exception as e :\n",
    "            print(e)\n",
    "    replace('     jdlak     ')  \n",
    "except Exception as e:\n",
    "    print(e)"
   ]
  },
  {
   "cell_type": "code",
   "execution_count": 18,
   "id": "14ae7b09",
   "metadata": {},
   "outputs": [
    {
     "name": "stdout",
     "output_type": "stream",
     "text": [
      "***  jdlak     \n"
     ]
    }
   ],
   "source": [
    "try:\n",
    "    def replace(a):\n",
    "        try:\n",
    "            print(a.replace(' ','*',3))\n",
    "        except Exception as e :\n",
    "            print(e)\n",
    "    replace('     jdlak     ')  \n",
    "except Exception as e:\n",
    "    print(e)"
   ]
  },
  {
   "cell_type": "code",
   "execution_count": 17,
   "id": "25992928",
   "metadata": {},
   "outputs": [
    {
     "name": "stdout",
     "output_type": "stream",
     "text": [
      "python is easy\n"
     ]
    }
   ],
   "source": [
    "try:\n",
    "    def join(a):\n",
    "        try:\n",
    "            print(' '.join(a))\n",
    "        except Exception as e :\n",
    "            print(e)\n",
    "    join(['python','is','easy'])  \n",
    "except Exception as e:\n",
    "    print(e)"
   ]
  },
  {
   "cell_type": "code",
   "execution_count": 19,
   "id": "6d86e2a3",
   "metadata": {},
   "outputs": [
    {
     "data": {
      "text/plain": [
       "'python is easy'"
      ]
     },
     "execution_count": 19,
     "metadata": {},
     "output_type": "execute_result"
    }
   ],
   "source": []
  },
  {
   "cell_type": "code",
   "execution_count": 19,
   "id": "41781db4",
   "metadata": {},
   "outputs": [
    {
     "name": "stdout",
     "output_type": "stream",
     "text": [
      "     JDLAK     \n"
     ]
    }
   ],
   "source": [
    "try:\n",
    "    def upper(a):\n",
    "        try:\n",
    "            print(a.upper())\n",
    "        except Exception as e :\n",
    "            print(e)\n",
    "    upper('     jdlak     ')  \n",
    "except Exception as e:\n",
    "    print(e)"
   ]
  },
  {
   "cell_type": "code",
   "execution_count": 21,
   "id": "7509cddc",
   "metadata": {},
   "outputs": [
    {
     "name": "stdout",
     "output_type": "stream",
     "text": [
      "     jdlak     \n"
     ]
    }
   ],
   "source": [
    "try:\n",
    "    def lower(a):\n",
    "        try:\n",
    "            print(a.lower())\n",
    "        except Exception as e :\n",
    "            print(e)\n",
    "    lower('     JDLAK     ')  \n",
    "except Exception as e:\n",
    "    print(e)"
   ]
  },
  {
   "cell_type": "code",
   "execution_count": 22,
   "id": "1d836d2b",
   "metadata": {},
   "outputs": [
    {
     "name": "stdout",
     "output_type": "stream",
     "text": [
      "     jdlak     \n"
     ]
    }
   ],
   "source": [
    "try:\n",
    "    def capitalize(a):\n",
    "        try:\n",
    "            print(a.capitalize())\n",
    "        except Exception as e :\n",
    "            print(e)\n",
    "    capitalize('     jdlak     ')  \n",
    "except Exception as e:\n",
    "    print(e)"
   ]
  },
  {
   "cell_type": "code",
   "execution_count": 23,
   "id": "82047e9a",
   "metadata": {},
   "outputs": [
    {
     "name": "stdout",
     "output_type": "stream",
     "text": [
      "Jdlak     \n"
     ]
    }
   ],
   "source": [
    "try:\n",
    "    def capitalize(a):\n",
    "        try:\n",
    "            print(a.capitalize())\n",
    "        except Exception as e :\n",
    "            print(e)\n",
    "    capitalize('jdlak     ')  \n",
    "except Exception as e:\n",
    "    print(e)"
   ]
  },
  {
   "cell_type": "code",
   "execution_count": 24,
   "id": "e9ec61e7",
   "metadata": {},
   "outputs": [
    {
     "name": "stdout",
     "output_type": "stream",
     "text": [
      "Python Is Easy     \n"
     ]
    }
   ],
   "source": [
    "try:\n",
    "    def title(a):\n",
    "        try:\n",
    "            print(a.title())\n",
    "        except Exception as e :\n",
    "            print(e)\n",
    "    title('python is easy     ')  \n",
    "except Exception as e:\n",
    "    print(e)"
   ]
  },
  {
   "cell_type": "code",
   "execution_count": 1,
   "id": "dcf3b66e",
   "metadata": {},
   "outputs": [
    {
     "name": "stdout",
     "output_type": "stream",
     "text": [
      "pYTHON iS eASY     \n"
     ]
    }
   ],
   "source": [
    "try:\n",
    "    def swapcase(a):\n",
    "        try:\n",
    "            print(a.swapcase())\n",
    "        except Exception as e :\n",
    "            print(e)\n",
    "    swapcase('Python Is Easy     ')  \n",
    "except Exception as e:\n",
    "    print(e)"
   ]
  },
  {
   "cell_type": "code",
   "execution_count": 5,
   "id": "3711db3d",
   "metadata": {},
   "outputs": [
    {
     "name": "stdout",
     "output_type": "stream",
     "text": [
      "***********Python Is Easy     ***********\n"
     ]
    }
   ],
   "source": [
    "try:\n",
    "    def center(a):\n",
    "        try:\n",
    "            print(a.center(41,'*'))\n",
    "        except Exception as e :\n",
    "            print(e)\n",
    "    center('Python Is Easy     ')  \n",
    "except Exception as e:\n",
    "    print(e)"
   ]
  },
  {
   "cell_type": "code",
   "execution_count": 1,
   "id": "d9ea6433",
   "metadata": {},
   "outputs": [
    {
     "name": "stdout",
     "output_type": "stream",
     "text": [
      "Requirement already satisfied: nbconvert in c:\\users\\lenovo\\anaconda3\\lib\\site-packages (6.4.4)\n",
      "Requirement already satisfied: traitlets>=5.0 in c:\\users\\lenovo\\anaconda3\\lib\\site-packages (from nbconvert) (5.1.1)\n",
      "Requirement already satisfied: testpath in c:\\users\\lenovo\\anaconda3\\lib\\site-packages (from nbconvert) (0.5.0)\n",
      "Requirement already satisfied: entrypoints>=0.2.2 in c:\\users\\lenovo\\anaconda3\\lib\\site-packages (from nbconvert) (0.4)\n",
      "Requirement already satisfied: jupyterlab-pygments in c:\\users\\lenovo\\anaconda3\\lib\\site-packages (from nbconvert) (0.1.2)\n",
      "Requirement already satisfied: bleach in c:\\users\\lenovo\\anaconda3\\lib\\site-packages (from nbconvert) (4.1.0)\n",
      "Requirement already satisfied: jinja2>=2.4 in c:\\users\\lenovo\\anaconda3\\lib\\site-packages (from nbconvert) (2.11.3)\n",
      "Requirement already satisfied: jupyter-core in c:\\users\\lenovo\\anaconda3\\lib\\site-packages (from nbconvert) (4.9.2)\n",
      "Requirement already satisfied: mistune<2,>=0.8.1 in c:\\users\\lenovo\\anaconda3\\lib\\site-packages (from nbconvert) (0.8.4)\n",
      "Requirement already satisfied: pandocfilters>=1.4.1 in c:\\users\\lenovo\\anaconda3\\lib\\site-packages (from nbconvert) (1.5.0)\n",
      "Requirement already satisfied: nbformat>=4.4 in c:\\users\\lenovo\\anaconda3\\lib\\site-packages (from nbconvert) (5.3.0)\n",
      "Requirement already satisfied: nbclient<0.6.0,>=0.5.0 in c:\\users\\lenovo\\anaconda3\\lib\\site-packages (from nbconvert) (0.5.13)\n",
      "Requirement already satisfied: pygments>=2.4.1 in c:\\users\\lenovo\\anaconda3\\lib\\site-packages (from nbconvert) (2.11.2)\n",
      "Requirement already satisfied: beautifulsoup4 in c:\\users\\lenovo\\anaconda3\\lib\\site-packages (from nbconvert) (4.11.1)\n",
      "Requirement already satisfied: defusedxml in c:\\users\\lenovo\\anaconda3\\lib\\site-packages (from nbconvert) (0.7.1)\n",
      "Requirement already satisfied: MarkupSafe>=0.23 in c:\\users\\lenovo\\anaconda3\\lib\\site-packages (from jinja2>=2.4->nbconvert) (2.0.1)\n",
      "Requirement already satisfied: nest-asyncio in c:\\users\\lenovo\\anaconda3\\lib\\site-packages (from nbclient<0.6.0,>=0.5.0->nbconvert) (1.5.5)\n",
      "Requirement already satisfied: jupyter-client>=6.1.5 in c:\\users\\lenovo\\anaconda3\\lib\\site-packages (from nbclient<0.6.0,>=0.5.0->nbconvert) (6.1.12)\n",
      "Requirement already satisfied: python-dateutil>=2.1 in c:\\users\\lenovo\\anaconda3\\lib\\site-packages (from jupyter-client>=6.1.5->nbclient<0.6.0,>=0.5.0->nbconvert) (2.8.2)\n",
      "Requirement already satisfied: tornado>=4.1 in c:\\users\\lenovo\\anaconda3\\lib\\site-packages (from jupyter-client>=6.1.5->nbclient<0.6.0,>=0.5.0->nbconvert) (6.1)\n",
      "Requirement already satisfied: pyzmq>=13 in c:\\users\\lenovo\\anaconda3\\lib\\site-packages (from jupyter-client>=6.1.5->nbclient<0.6.0,>=0.5.0->nbconvert) (22.3.0)\n",
      "Requirement already satisfied: pywin32>=1.0 in c:\\users\\lenovo\\anaconda3\\lib\\site-packages (from jupyter-core->nbconvert) (302)\n",
      "Requirement already satisfied: fastjsonschema in c:\\users\\lenovo\\anaconda3\\lib\\site-packages (from nbformat>=4.4->nbconvert) (2.15.1)\n",
      "Requirement already satisfied: jsonschema>=2.6 in c:\\users\\lenovo\\anaconda3\\lib\\site-packages (from nbformat>=4.4->nbconvert) (4.4.0)\n",
      "Requirement already satisfied: pyrsistent!=0.17.0,!=0.17.1,!=0.17.2,>=0.14.0 in c:\\users\\lenovo\\anaconda3\\lib\\site-packages (from jsonschema>=2.6->nbformat>=4.4->nbconvert) (0.18.0)\n",
      "Requirement already satisfied: attrs>=17.4.0 in c:\\users\\lenovo\\anaconda3\\lib\\site-packages (from jsonschema>=2.6->nbformat>=4.4->nbconvert) (21.4.0)\n",
      "Requirement already satisfied: six>=1.5 in c:\\users\\lenovo\\anaconda3\\lib\\site-packages (from python-dateutil>=2.1->jupyter-client>=6.1.5->nbclient<0.6.0,>=0.5.0->nbconvert) (1.16.0)\n",
      "Requirement already satisfied: soupsieve>1.2 in c:\\users\\lenovo\\anaconda3\\lib\\site-packages (from beautifulsoup4->nbconvert) (2.3.1)\n",
      "Requirement already satisfied: packaging in c:\\users\\lenovo\\anaconda3\\lib\\site-packages (from bleach->nbconvert) (21.3)\n",
      "Requirement already satisfied: webencodings in c:\\users\\lenovo\\anaconda3\\lib\\site-packages (from bleach->nbconvert) (0.5.1)\n",
      "Requirement already satisfied: pyparsing!=3.0.5,>=2.0.2 in c:\\users\\lenovo\\anaconda3\\lib\\site-packages (from packaging->bleach->nbconvert) (3.0.4)\n"
     ]
    }
   ],
   "source": []
  },
  {
   "cell_type": "code",
   "execution_count": null,
   "id": "0df7a366",
   "metadata": {},
   "outputs": [],
   "source": []
  }
 ],
 "metadata": {
  "kernelspec": {
   "display_name": "Python 3 (ipykernel)",
   "language": "python",
   "name": "python3"
  },
  "language_info": {
   "codemirror_mode": {
    "name": "ipython",
    "version": 3
   },
   "file_extension": ".py",
   "mimetype": "text/x-python",
   "name": "python",
   "nbconvert_exporter": "python",
   "pygments_lexer": "ipython3",
   "version": "3.9.12"
  }
 },
 "nbformat": 4,
 "nbformat_minor": 5
}
